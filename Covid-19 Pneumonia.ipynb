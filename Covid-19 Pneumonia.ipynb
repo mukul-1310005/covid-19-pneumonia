{
 "cells": [
  {
   "cell_type": "code",
   "execution_count": 1,
   "metadata": {},
   "outputs": [],
   "source": [
    "import tensorflow as tf\n",
    "from tensorflow.keras.models import Sequential, Model\n",
    "from tensorflow.keras.layers import Dense, Conv2D, MaxPooling2D, Dropout, Flatten\n",
    "from tensorflow.keras.optimizers import RMSprop, Adam\n"
   ]
  },
  {
   "cell_type": "markdown",
   "metadata": {},
   "source": [
    "**Creating our CNN Model**"
   ]
  },
  {
   "cell_type": "code",
   "execution_count": 2,
   "metadata": {},
   "outputs": [],
   "source": [
    "model = Sequential()\n",
    "\n",
    "model.add(Conv2D(16, (3,3), activation = 'relu', input_shape = (256,256,3)))\n",
    "model.add(MaxPooling2D((2,2)))\n",
    "\n",
    "model.add(Conv2D(32, (3,3), activation = 'relu'))\n",
    "model.add(MaxPooling2D((2,2)))\n",
    "\n",
    "model.add(Conv2D(64, (3,3), activation = 'relu'))\n",
    "model.add(MaxPooling2D((2,2)))\n",
    "\n",
    "model.add(Conv2D(128, (3,3), activation = 'relu'))\n",
    "model.add(MaxPooling2D((2,2)))\n",
    "\n",
    "model.add(Flatten())\n",
    "\n",
    "model.add(Dense(units = 128, activation = 'relu'))\n",
    "model.add(Dropout(0.25))\n",
    "\n",
    "model.add(Dense(units = 128, activation = 'relu'))\n",
    "model.add(Dropout(0.25))\n",
    "\n",
    "model.add(Dense(units = 1, activation = 'sigmoid'))"
   ]
  },
  {
   "cell_type": "markdown",
   "metadata": {},
   "source": [
    "**Compiling our Model**"
   ]
  },
  {
   "cell_type": "code",
   "execution_count": 3,
   "metadata": {},
   "outputs": [],
   "source": [
    "model.compile(loss = 'binary_crossentropy', optimizer = RMSprop(lr = 0.0001), metrics = ['accuracy'])"
   ]
  },
  {
   "cell_type": "code",
   "execution_count": 4,
   "metadata": {},
   "outputs": [
    {
     "name": "stdout",
     "output_type": "stream",
     "text": [
      "Model: \"sequential\"\n",
      "_________________________________________________________________\n",
      "Layer (type)                 Output Shape              Param #   \n",
      "=================================================================\n",
      "conv2d (Conv2D)              (None, 254, 254, 16)      448       \n",
      "_________________________________________________________________\n",
      "max_pooling2d (MaxPooling2D) (None, 127, 127, 16)      0         \n",
      "_________________________________________________________________\n",
      "conv2d_1 (Conv2D)            (None, 125, 125, 32)      4640      \n",
      "_________________________________________________________________\n",
      "max_pooling2d_1 (MaxPooling2 (None, 62, 62, 32)        0         \n",
      "_________________________________________________________________\n",
      "conv2d_2 (Conv2D)            (None, 60, 60, 64)        18496     \n",
      "_________________________________________________________________\n",
      "max_pooling2d_2 (MaxPooling2 (None, 30, 30, 64)        0         \n",
      "_________________________________________________________________\n",
      "conv2d_3 (Conv2D)            (None, 28, 28, 128)       73856     \n",
      "_________________________________________________________________\n",
      "max_pooling2d_3 (MaxPooling2 (None, 14, 14, 128)       0         \n",
      "_________________________________________________________________\n",
      "flatten (Flatten)            (None, 25088)             0         \n",
      "_________________________________________________________________\n",
      "dense (Dense)                (None, 128)               3211392   \n",
      "_________________________________________________________________\n",
      "dropout (Dropout)            (None, 128)               0         \n",
      "_________________________________________________________________\n",
      "dense_1 (Dense)              (None, 128)               16512     \n",
      "_________________________________________________________________\n",
      "dropout_1 (Dropout)          (None, 128)               0         \n",
      "_________________________________________________________________\n",
      "dense_2 (Dense)              (None, 1)                 129       \n",
      "=================================================================\n",
      "Total params: 3,325,473\n",
      "Trainable params: 3,325,473\n",
      "Non-trainable params: 0\n",
      "_________________________________________________________________\n"
     ]
    }
   ],
   "source": [
    "#Model Summary\n",
    "model.summary()"
   ]
  },
  {
   "cell_type": "markdown",
   "metadata": {},
   "source": [
    "**Generator Training and Validation Dataset**"
   ]
  },
  {
   "cell_type": "code",
   "execution_count": 5,
   "metadata": {},
   "outputs": [],
   "source": [
    "from tensorflow.keras.preprocessing.image import ImageDataGenerator"
   ]
  },
  {
   "cell_type": "code",
   "execution_count": 6,
   "metadata": {},
   "outputs": [
    {
     "name": "stdout",
     "output_type": "stream",
     "text": [
      "Found 204 images belonging to 2 classes.\n",
      "Found 60 images belonging to 2 classes.\n"
     ]
    }
   ],
   "source": [
    "#Here we will use Image Augmentation on training set only\n",
    "train_datagen = ImageDataGenerator(rescale = 1/256,\n",
    "                                  rotation_range = 30,\n",
    "                                  shear_range = 0.2,\n",
    "                                  zoom_range = 0.3,\n",
    "                                  horizontal_flip = True,\n",
    "                                  fill_mode = 'nearest')\n",
    "training_set = train_datagen.flow_from_directory(\"train/\", target_size = (256,256), batch_size = 2, class_mode = 'binary')\n",
    "\n",
    "validation_datagen = ImageDataGenerator(rescale = 1/256)\n",
    "validation_data = validation_datagen.flow_from_directory(\"test/\", target_size = (256,256), batch_size = 2, class_mode = 'binary')"
   ]
  },
  {
   "cell_type": "markdown",
   "metadata": {},
   "source": [
    "**Creating callbacks**"
   ]
  },
  {
   "cell_type": "code",
   "execution_count": 7,
   "metadata": {},
   "outputs": [],
   "source": [
    "from tensorflow.keras.callbacks import ReduceLROnPlateau\n",
    "reduce_lr = ReduceLROnPlateau(monitor = 'val_loss', factor = 0.125, patience = 2, min_lr = 0.00001, model = 'auto')\n",
    "callbacks = [reduce_lr]"
   ]
  },
  {
   "cell_type": "markdown",
   "metadata": {},
   "source": [
    "**Training our Model**"
   ]
  },
  {
   "cell_type": "code",
   "execution_count": 8,
   "metadata": {},
   "outputs": [
    {
     "name": "stdout",
     "output_type": "stream",
     "text": [
      "Epoch 1/25\n",
      "102/102 [==============================] - 24s 239ms/step - loss: 0.6933 - accuracy: 0.5196 - val_loss: 0.6729 - val_accuracy: 0.5000 - lr: 1.0000e-04\n",
      "Epoch 2/25\n",
      "102/102 [==============================] - 24s 235ms/step - loss: 0.6734 - accuracy: 0.6078 - val_loss: 0.5281 - val_accuracy: 0.9167 - lr: 1.0000e-04\n",
      "Epoch 3/25\n",
      "102/102 [==============================] - 25s 241ms/step - loss: 0.5798 - accuracy: 0.6912 - val_loss: 0.3698 - val_accuracy: 0.8667 - lr: 1.0000e-04\n",
      "Epoch 4/25\n",
      "102/102 [==============================] - 24s 233ms/step - loss: 0.5604 - accuracy: 0.7353 - val_loss: 0.2070 - val_accuracy: 0.9833 - lr: 1.0000e-04\n",
      "Epoch 5/25\n",
      "102/102 [==============================] - 25s 247ms/step - loss: 0.4673 - accuracy: 0.7794 - val_loss: 0.1951 - val_accuracy: 0.9333 - lr: 1.0000e-04\n",
      "Epoch 6/25\n",
      "102/102 [==============================] - 24s 237ms/step - loss: 0.4085 - accuracy: 0.8235 - val_loss: 0.1051 - val_accuracy: 0.9667 - lr: 1.0000e-04\n",
      "Epoch 7/25\n",
      "102/102 [==============================] - 24s 236ms/step - loss: 0.3951 - accuracy: 0.8039 - val_loss: 0.0921 - val_accuracy: 0.9667 - lr: 1.0000e-04\n",
      "Epoch 8/25\n",
      "102/102 [==============================] - 24s 236ms/step - loss: 0.3392 - accuracy: 0.8578 - val_loss: 0.1164 - val_accuracy: 0.9667 - lr: 1.0000e-04\n",
      "Epoch 9/25\n",
      "102/102 [==============================] - 24s 233ms/step - loss: 0.3061 - accuracy: 0.9020 - val_loss: 0.1027 - val_accuracy: 0.9500 - lr: 1.0000e-04\n",
      "Epoch 10/25\n",
      "102/102 [==============================] - 26s 252ms/step - loss: 0.2283 - accuracy: 0.9118 - val_loss: 0.0986 - val_accuracy: 0.9333 - lr: 1.2500e-05\n",
      "Epoch 11/25\n",
      "102/102 [==============================] - 26s 251ms/step - loss: 0.2612 - accuracy: 0.8873 - val_loss: 0.0830 - val_accuracy: 0.9667 - lr: 1.2500e-05\n",
      "Epoch 12/25\n",
      "102/102 [==============================] - 24s 240ms/step - loss: 0.2335 - accuracy: 0.9118 - val_loss: 0.1186 - val_accuracy: 0.9167 - lr: 1.2500e-05\n",
      "Epoch 13/25\n",
      "102/102 [==============================] - 25s 246ms/step - loss: 0.2881 - accuracy: 0.8873 - val_loss: 0.0698 - val_accuracy: 0.9833 - lr: 1.2500e-05\n",
      "Epoch 14/25\n",
      "102/102 [==============================] - 24s 238ms/step - loss: 0.2582 - accuracy: 0.8873 - val_loss: 0.0977 - val_accuracy: 0.9667 - lr: 1.2500e-05\n",
      "Epoch 15/25\n",
      "102/102 [==============================] - 25s 248ms/step - loss: 0.2338 - accuracy: 0.9069 - val_loss: 0.0946 - val_accuracy: 0.9667 - lr: 1.2500e-05\n",
      "Epoch 16/25\n",
      "102/102 [==============================] - 25s 241ms/step - loss: 0.2086 - accuracy: 0.9069 - val_loss: 0.0871 - val_accuracy: 0.9667 - lr: 1.0000e-05\n",
      "Epoch 17/25\n",
      "102/102 [==============================] - 25s 241ms/step - loss: 0.1718 - accuracy: 0.9216 - val_loss: 0.1204 - val_accuracy: 0.9167 - lr: 1.0000e-05\n",
      "Epoch 18/25\n",
      "102/102 [==============================] - 24s 237ms/step - loss: 0.2457 - accuracy: 0.9069 - val_loss: 0.1173 - val_accuracy: 0.9667 - lr: 1.0000e-05\n",
      "Epoch 19/25\n",
      "102/102 [==============================] - 24s 237ms/step - loss: 0.1907 - accuracy: 0.9118 - val_loss: 0.0819 - val_accuracy: 0.9500 - lr: 1.0000e-05\n",
      "Epoch 20/25\n",
      "102/102 [==============================] - 25s 250ms/step - loss: 0.2243 - accuracy: 0.9167 - val_loss: 0.0831 - val_accuracy: 0.9333 - lr: 1.0000e-05\n",
      "Epoch 21/25\n",
      "102/102 [==============================] - 24s 238ms/step - loss: 0.2390 - accuracy: 0.9069 - val_loss: 0.0781 - val_accuracy: 0.9667 - lr: 1.0000e-05\n",
      "Epoch 22/25\n",
      "102/102 [==============================] - 25s 248ms/step - loss: 0.2248 - accuracy: 0.9069 - val_loss: 0.1182 - val_accuracy: 0.9333 - lr: 1.0000e-05\n",
      "Epoch 23/25\n",
      "102/102 [==============================] - 25s 242ms/step - loss: 0.1782 - accuracy: 0.9167 - val_loss: 0.0660 - val_accuracy: 0.9833 - lr: 1.0000e-05\n",
      "Epoch 24/25\n",
      "102/102 [==============================] - 26s 252ms/step - loss: 0.2076 - accuracy: 0.8971 - val_loss: 0.1067 - val_accuracy: 0.9333 - lr: 1.0000e-05\n",
      "Epoch 25/25\n",
      "102/102 [==============================] - 25s 241ms/step - loss: 0.2069 - accuracy: 0.9069 - val_loss: 0.0501 - val_accuracy: 0.9667 - lr: 1.0000e-05\n"
     ]
    }
   ],
   "source": [
    "steps_per_epoch = training_set.n//training_set.batch_size\n",
    "validation_steps = validation_data.n//validation_data.batch_size\n",
    "\n",
    "history = model.fit(training_set,steps_per_epoch = steps_per_epoch, epochs = 25, validation_data = validation_data, validation_steps = validation_steps, callbacks = callbacks)"
   ]
  },
  {
   "cell_type": "markdown",
   "metadata": {},
   "source": [
    "**Plotting accuracy and Loss or both training and validation set**"
   ]
  },
  {
   "cell_type": "code",
   "execution_count": 9,
   "metadata": {},
   "outputs": [
    {
     "data": {
      "text/plain": [
       "<matplotlib.legend.Legend at 0x7f10ec8090d0>"
      ]
     },
     "execution_count": 9,
     "metadata": {},
     "output_type": "execute_result"
    },
    {
     "data": {
      "image/png": "[encoded data removed]",
      "text/plain": [
       "<Figure size 432x288 with 1 Axes>"
      ]
     },
     "metadata": {
      "needs_background": "light"
     },
     "output_type": "display_data"
    },
    {
     "data": {
      "image/png": "[encoded data removed]",
      "text/plain": [
       "<Figure size 432x288 with 1 Axes>"
      ]
     },
     "metadata": {
      "needs_background": "light"
     },
     "output_type": "display_data"
    }
   ],
   "source": [
    "import matplotlib.pyplot as plt\n",
    "\n",
    "train_acc = history.history[\"accuracy\"]\n",
    "val_acc = history.history[\"val_accuracy\"]\n",
    "\n",
    "train_loss = history.history[\"loss\"]\n",
    "val_loss = history.history[\"val_loss\"]\n",
    "\n",
    "epochs = range(len(train_acc))\n",
    "\n",
    "plt.plot(epochs, train_acc, c = 'blue', label = \"Training Accuracy\")\n",
    "plt.plot(epochs, val_acc, c = 'red', label = \"Validation Accuracy\")\n",
    "plt.title(\"Training and Validation Accuracy\")\n",
    "plt.legend()\n",
    "plt.figure()\n",
    "\n",
    "plt.plot(epochs, train_loss, c = 'blue', label = \"Training Loss\")\n",
    "plt.plot(epochs, val_loss, c = 'red', label = \"Validation Loss\")\n",
    "plt.title(\"Training and Validation Loss\")\n",
    "plt.legend()"
   ]
  }
 ],
 "metadata": {
  "kernelspec": {
   "display_name": "Python 3",
   "language": "python",
   "name": "python3"
  },
  "language_info": {
   "codemirror_mode": {
    "name": "ipython",
    "version": 3
   },
   "file_extension": ".py",
   "mimetype": "text/x-python",
   "name": "python",
   "nbconvert_exporter": "python",
   "pygments_lexer": "ipython3",
   "version": "3.7.6"
  }
 },
 "nbformat": 4,
 "nbformat_minor": 4
}
